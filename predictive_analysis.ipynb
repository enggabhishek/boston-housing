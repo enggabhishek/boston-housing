{
 "cells": [
  {
   "cell_type": "code",
   "execution_count": 1,
   "metadata": {},
   "outputs": [],
   "source": [
    "#Importing libraries\n",
    "import pandas as pd\n",
    "import numpy as np\n",
    "import seaborn as sns\n",
    "import matplotlib.pyplot as plt\n",
    "from scipy import stats\n",
    "import time\n",
    "import math\n",
    "from tqdm import tqdm\n",
    "from sklearn.preprocessing import LabelEncoder\n",
    "from sklearn.metrics import accuracy_score,confusion_matrix, ConfusionMatrixDisplay\n",
    "from sklearn.linear_model import LinearRegression, Ridge, Lasso\n",
    "from sklearn.feature_selection import SequentialFeatureSelector\n",
    "from lightgbm import LGBMRegressor\n",
    "import statsmodels.api as sm\n",
    "from sklearn.ensemble import RandomForestRegressor\n",
    "from sklearn.model_selection import train_test_split\n",
    "from sklearn import metrics"
   ]
  },
  {
   "cell_type": "code",
   "execution_count": 2,
   "metadata": {},
   "outputs": [],
   "source": [
    "import boto3\n",
    "import pymysql\n",
    "import os\n",
    "\n",
    "ENDPOINT = \"<Enter Instance-Endpoint>\"\n",
    "PORT = 3306\n",
    "USER = \"<Your-Username>\"\n",
    "REGION = \"<Region-of-HostedServer>\"\n",
    "DBNAME = \"<DB-Name>\"\n",
    "SSLCERTIFICATE = \"<Path of SSl Certificate(.pem)>\"\n",
    "conn = ''\n",
    "os.environ['LIBMYSQL_ENABLE_CLEARTEXT_PLUGIN'] = '1'"
   ]
  },
  {
   "cell_type": "code",
   "execution_count": 3,
   "metadata": {},
   "outputs": [],
   "source": [
    "#=========================Connecting to MySQL===========================\n",
    "session = boto3.Session(profile_name='default')\n",
    "client = session.client('rds')\n",
    "token = client.generate_db_auth_token(\n",
    "    DBHostname=ENDPOINT,\n",
    "    Port=PORT,\n",
    "    DBUsername=USER,\n",
    "    Region=REGION\n",
    ")\n",
    "\n",
    "try:\n",
    "    conn = pymysql.connect(\n",
    "        host=ENDPOINT,\n",
    "        user=USER,\n",
    "        passwd=token,\n",
    "        port=PORT,\n",
    "        database=DBNAME,\n",
    "        ssl_ca=SSLCERTIFICATE\n",
    "    )\n",
    "except Exception as e:\n",
    "    print(f\"Database connection failed due to: {e}\")\n",
    "    \n",
    "mycursor = conn.cursor(buffered = True)\n",
    "mycursor.execute(\"\"\"Select * from boston_housing_21;\"\"\")\n",
    "result = mycursor.fetchall()\n",
    "#======================================================================"
   ]
  },
  {
   "cell_type": "code",
   "execution_count": 4,
   "metadata": {},
   "outputs": [
    {
     "data": {
      "text/html": [
       "<div>\n",
       "<style scoped>\n",
       "    .dataframe tbody tr th:only-of-type {\n",
       "        vertical-align: middle;\n",
       "    }\n",
       "\n",
       "    .dataframe tbody tr th {\n",
       "        vertical-align: top;\n",
       "    }\n",
       "\n",
       "    .dataframe thead th {\n",
       "        text-align: right;\n",
       "    }\n",
       "</style>\n",
       "<table border=\"1\" class=\"dataframe\">\n",
       "  <thead>\n",
       "    <tr style=\"text-align: right;\">\n",
       "      <th></th>\n",
       "      <th>PID</th>\n",
       "      <th>CM_ID</th>\n",
       "      <th>GIS_ID</th>\n",
       "      <th>ST_NUM</th>\n",
       "      <th>ST_NAME</th>\n",
       "      <th>UNIT_NUM</th>\n",
       "      <th>CITY</th>\n",
       "      <th>ZIPCODE</th>\n",
       "      <th>BLDG_SEQ</th>\n",
       "      <th>NUM_BLDGS</th>\n",
       "      <th>...</th>\n",
       "      <th>KITCHEN_STYLE2</th>\n",
       "      <th>KITCHEN_STYLE3</th>\n",
       "      <th>HEAT_TYPE</th>\n",
       "      <th>HEAT_FUEL</th>\n",
       "      <th>AC_TYPE</th>\n",
       "      <th>FIRE_PLACE</th>\n",
       "      <th>PlUMBING</th>\n",
       "      <th>NUM_PARKING</th>\n",
       "      <th>PROP_VIEW</th>\n",
       "      <th>CORNER_UNIT</th>\n",
       "    </tr>\n",
       "  </thead>\n",
       "  <tbody>\n",
       "    <tr>\n",
       "      <th>0</th>\n",
       "      <td>100001000</td>\n",
       "      <td>NaN</td>\n",
       "      <td>100001000.0</td>\n",
       "      <td>104 A 104</td>\n",
       "      <td>PUTNAM ST</td>\n",
       "      <td>NaN</td>\n",
       "      <td>EAST BOSTON</td>\n",
       "      <td>2128</td>\n",
       "      <td>1.0</td>\n",
       "      <td>1.0</td>\n",
       "      <td>...</td>\n",
       "      <td>S - Semi-Modern</td>\n",
       "      <td>S - Semi-Modern</td>\n",
       "      <td>W - Ht Water/Steam</td>\n",
       "      <td>NaN</td>\n",
       "      <td>N - None</td>\n",
       "      <td>NaN</td>\n",
       "      <td>NaN</td>\n",
       "      <td>3.0</td>\n",
       "      <td>A - Average</td>\n",
       "      <td>NaN</td>\n",
       "    </tr>\n",
       "    <tr>\n",
       "      <th>1</th>\n",
       "      <td>100002000</td>\n",
       "      <td>NaN</td>\n",
       "      <td>100002000.0</td>\n",
       "      <td>197</td>\n",
       "      <td>LEXINGTON ST</td>\n",
       "      <td>NaN</td>\n",
       "      <td>EAST BOSTON</td>\n",
       "      <td>2128</td>\n",
       "      <td>1.0</td>\n",
       "      <td>1.0</td>\n",
       "      <td>...</td>\n",
       "      <td>M - Modern</td>\n",
       "      <td>M - Modern</td>\n",
       "      <td>F - Forced Hot Air</td>\n",
       "      <td>NaN</td>\n",
       "      <td>C - Central AC</td>\n",
       "      <td>NaN</td>\n",
       "      <td>NaN</td>\n",
       "      <td>NaN</td>\n",
       "      <td>A - Average</td>\n",
       "      <td>NaN</td>\n",
       "    </tr>\n",
       "    <tr>\n",
       "      <th>2</th>\n",
       "      <td>100003000</td>\n",
       "      <td>NaN</td>\n",
       "      <td>100003000.0</td>\n",
       "      <td>199</td>\n",
       "      <td>LEXINGTON ST</td>\n",
       "      <td>NaN</td>\n",
       "      <td>EAST BOSTON</td>\n",
       "      <td>2128</td>\n",
       "      <td>1.0</td>\n",
       "      <td>1.0</td>\n",
       "      <td>...</td>\n",
       "      <td>S - Semi-Modern</td>\n",
       "      <td>S - Semi-Modern</td>\n",
       "      <td>S - Space Heat</td>\n",
       "      <td>NaN</td>\n",
       "      <td>N - None</td>\n",
       "      <td>NaN</td>\n",
       "      <td>NaN</td>\n",
       "      <td>NaN</td>\n",
       "      <td>A - Average</td>\n",
       "      <td>NaN</td>\n",
       "    </tr>\n",
       "    <tr>\n",
       "      <th>3</th>\n",
       "      <td>100004000</td>\n",
       "      <td>NaN</td>\n",
       "      <td>100004000.0</td>\n",
       "      <td>201</td>\n",
       "      <td>LEXINGTON ST</td>\n",
       "      <td>NaN</td>\n",
       "      <td>EAST BOSTON</td>\n",
       "      <td>2128</td>\n",
       "      <td>1.0</td>\n",
       "      <td>1.0</td>\n",
       "      <td>...</td>\n",
       "      <td>S - Semi-Modern</td>\n",
       "      <td>S - Semi-Modern</td>\n",
       "      <td>W - Ht Water/Steam</td>\n",
       "      <td>NaN</td>\n",
       "      <td>N - None</td>\n",
       "      <td>NaN</td>\n",
       "      <td>NaN</td>\n",
       "      <td>NaN</td>\n",
       "      <td>A - Average</td>\n",
       "      <td>NaN</td>\n",
       "    </tr>\n",
       "    <tr>\n",
       "      <th>4</th>\n",
       "      <td>100005000</td>\n",
       "      <td>NaN</td>\n",
       "      <td>100005000.0</td>\n",
       "      <td>203</td>\n",
       "      <td>LEXINGTON ST</td>\n",
       "      <td>NaN</td>\n",
       "      <td>EAST BOSTON</td>\n",
       "      <td>2128</td>\n",
       "      <td>1.0</td>\n",
       "      <td>1.0</td>\n",
       "      <td>...</td>\n",
       "      <td>S - Semi-Modern</td>\n",
       "      <td>NaN</td>\n",
       "      <td>W - Ht Water/Steam</td>\n",
       "      <td>NaN</td>\n",
       "      <td>N - None</td>\n",
       "      <td>NaN</td>\n",
       "      <td>NaN</td>\n",
       "      <td>NaN</td>\n",
       "      <td>A - Average</td>\n",
       "      <td>NaN</td>\n",
       "    </tr>\n",
       "  </tbody>\n",
       "</table>\n",
       "<p>5 rows × 63 columns</p>\n",
       "</div>"
      ],
      "text/plain": [
       "         PID  CM_ID       GIS_ID     ST_NUM       ST_NAME UNIT_NUM  \\\n",
       "0  100001000    NaN  100001000.0  104 A 104     PUTNAM ST      NaN   \n",
       "1  100002000    NaN  100002000.0        197  LEXINGTON ST      NaN   \n",
       "2  100003000    NaN  100003000.0        199  LEXINGTON ST      NaN   \n",
       "3  100004000    NaN  100004000.0        201  LEXINGTON ST      NaN   \n",
       "4  100005000    NaN  100005000.0        203  LEXINGTON ST      NaN   \n",
       "\n",
       "          CITY  ZIPCODE  BLDG_SEQ  NUM_BLDGS  ...   KITCHEN_STYLE2  \\\n",
       "0  EAST BOSTON     2128       1.0        1.0  ...  S - Semi-Modern   \n",
       "1  EAST BOSTON     2128       1.0        1.0  ...       M - Modern   \n",
       "2  EAST BOSTON     2128       1.0        1.0  ...  S - Semi-Modern   \n",
       "3  EAST BOSTON     2128       1.0        1.0  ...  S - Semi-Modern   \n",
       "4  EAST BOSTON     2128       1.0        1.0  ...  S - Semi-Modern   \n",
       "\n",
       "    KITCHEN_STYLE3           HEAT_TYPE HEAT_FUEL         AC_TYPE FIRE_PLACE  \\\n",
       "0  S - Semi-Modern  W - Ht Water/Steam       NaN        N - None        NaN   \n",
       "1       M - Modern  F - Forced Hot Air       NaN  C - Central AC        NaN   \n",
       "2  S - Semi-Modern      S - Space Heat       NaN        N - None        NaN   \n",
       "3  S - Semi-Modern  W - Ht Water/Steam       NaN        N - None        NaN   \n",
       "4              NaN  W - Ht Water/Steam       NaN        N - None        NaN   \n",
       "\n",
       "  PlUMBING NUM_PARKING    PROP_VIEW CORNER_UNIT  \n",
       "0      NaN         3.0  A - Average         NaN  \n",
       "1      NaN         NaN  A - Average         NaN  \n",
       "2      NaN         NaN  A - Average         NaN  \n",
       "3      NaN         NaN  A - Average         NaN  \n",
       "4      NaN         NaN  A - Average         NaN  \n",
       "\n",
       "[5 rows x 63 columns]"
      ]
     },
     "execution_count": 4,
     "metadata": {},
     "output_type": "execute_result"
    }
   ],
   "source": [
    "dataset = pd.DataFrame(result, ['PID', 'CM_ID', 'GIS_ID', 'ST_NUM', 'ST_NAME', 'UNIT_NUM', 'CITY',\n",
    "       'ZIPCODE', 'BLDG_SEQ', 'NUM_BLDGS', 'LUC', 'LU', 'LU_DESC', 'BLDG_TYPE',\n",
    "       'OWN_OCC', 'OWNER', 'MAIL_ADDRESSEE', 'MAIL_ADDRESS', 'MAIL_CITY',\n",
    "       'MAIL_STATE', 'MAIL_ZIPCODE', 'RES_FLOOR', 'CD_FLOOR', 'RES_UNITS',\n",
    "       'COM_UNITS', 'LAND_SF', 'GROSS_AREA', 'LIVING_AREA', 'LAND_VALUE',\n",
    "       'BLDG_VALUE', 'TOTAL_VALUE', 'GROSS_TAX', 'YR_BUILT', 'YR_REMODEL',\n",
    "       'STRUCTURE_CLASS', 'ROOF_STRUCTURE', 'ROOF_COVER', 'INT_WALL',\n",
    "       'EXT_FINISHED', 'INT_COND', 'EXT_COND', 'OVERALL_COND', 'BED_RMS',\n",
    "       'FULL_BTH', 'HLF_BTH', 'KITCHEN', 'TT_RMS', 'BDRM_COND', 'BTHRM_STYLE1',\n",
    "       'BTHRM_STYLE2', 'BTHRM_STYLE3', 'KITCHEN_TYPE', 'KITCHEN_STYLE1',\n",
    "       'KITCHEN_STYLE2', 'KITCHEN_STYLE3', 'HEAT_TYPE', 'HEAT_FUEL', 'AC_TYPE',\n",
    "       'FIRE_PLACE', 'PlUMBING', 'NUM_PARKING', 'PROP_VIEW', 'CORNER_UNIT'])\n",
    "dataset.head(5)"
   ]
  },
  {
   "cell_type": "code",
   "execution_count": 5,
   "metadata": {},
   "outputs": [],
   "source": [
    "dataset.drop_duplicates(['PID'],keep= 'last', inplace=True)"
   ]
  },
  {
   "cell_type": "code",
   "execution_count": 6,
   "metadata": {},
   "outputs": [],
   "source": [
    "index_names = ['PID','CM_ID','GIS_ID','ST_NUM','UNIT_NUM','MAIL_ADDRESSEE','LUC','LU', \\\n",
    "                       'CD_FLOOR','RES_FLOOR','RES_UNITS','COM_UNITS','LAND_SF', 'LU_DESC',\\\n",
    "                       'LAND_VALUE','YR_REMODEL','STRUCTURE_CLASS','ROOF_STRUCTURE', \\\n",
    "                       'ROOF_COVER','INT_WALL','INT_COND','BED_RMS','HLF_BTH','FULL_BTH',\n",
    "                       'BDRM_COND', 'BTHRM_STYLE2','BTHRM_STYLE3','KITCHEN_STYLE2', \\\n",
    "                       'KITCHEN_STYLE3', 'HEAT_FUEL', 'FIRE_PLACE', 'PlUMBING', \\\n",
    "                       'NUM_PARKING', 'PROP_VIEW', 'CORNER_UNIT', \\\n",
    "                       'OWNER', 'OWN_OCC', 'ST_NAME','MAIL_ADDRESS',\n",
    "                        'MAIL_CITY', 'MAIL_ZIPCODE','OVERALL_COND','KITCHEN_STYLE1']\n",
    "\n",
    "    \n",
    "    \n",
    "# drop these row \n",
    "# from dataFrame\n",
    "df = dataset.drop(index_names, inplace = False, axis='columns')"
   ]
  },
  {
   "cell_type": "code",
   "execution_count": 7,
   "metadata": {},
   "outputs": [
    {
     "data": {
      "text/html": [
       "<div>\n",
       "<style scoped>\n",
       "    .dataframe tbody tr th:only-of-type {\n",
       "        vertical-align: middle;\n",
       "    }\n",
       "\n",
       "    .dataframe tbody tr th {\n",
       "        vertical-align: top;\n",
       "    }\n",
       "\n",
       "    .dataframe thead th {\n",
       "        text-align: right;\n",
       "    }\n",
       "</style>\n",
       "<table border=\"1\" class=\"dataframe\">\n",
       "  <thead>\n",
       "    <tr style=\"text-align: right;\">\n",
       "      <th></th>\n",
       "      <th>CITY</th>\n",
       "      <th>ZIPCODE</th>\n",
       "      <th>BLDG_SEQ</th>\n",
       "      <th>NUM_BLDGS</th>\n",
       "      <th>BLDG_TYPE</th>\n",
       "      <th>MAIL_STATE</th>\n",
       "      <th>GROSS_AREA</th>\n",
       "      <th>LIVING_AREA</th>\n",
       "      <th>BLDG_VALUE</th>\n",
       "      <th>TOTAL_VALUE</th>\n",
       "      <th>GROSS_TAX</th>\n",
       "      <th>YR_BUILT</th>\n",
       "      <th>EXT_FINISHED</th>\n",
       "      <th>EXT_COND</th>\n",
       "      <th>KITCHEN</th>\n",
       "      <th>TT_RMS</th>\n",
       "      <th>BTHRM_STYLE1</th>\n",
       "      <th>KITCHEN_TYPE</th>\n",
       "      <th>HEAT_TYPE</th>\n",
       "      <th>AC_TYPE</th>\n",
       "    </tr>\n",
       "  </thead>\n",
       "  <tbody>\n",
       "    <tr>\n",
       "      <th>0</th>\n",
       "      <td>EAST BOSTON</td>\n",
       "      <td>2128</td>\n",
       "      <td>1.0</td>\n",
       "      <td>1.0</td>\n",
       "      <td>RE - Row End</td>\n",
       "      <td>MA</td>\n",
       "      <td>3353.0</td>\n",
       "      <td>2202.0</td>\n",
       "      <td>$539,900.00</td>\n",
       "      <td>$719,400.00</td>\n",
       "      <td>$7,676.00</td>\n",
       "      <td>1900.0</td>\n",
       "      <td>A - Asbestos</td>\n",
       "      <td>F - Fair</td>\n",
       "      <td>3.0</td>\n",
       "      <td>12.0</td>\n",
       "      <td>S - Semi-Modern</td>\n",
       "      <td>3F - 3 Full Eat In Kitchens</td>\n",
       "      <td>W - Ht Water/Steam</td>\n",
       "      <td>N - None</td>\n",
       "    </tr>\n",
       "    <tr>\n",
       "      <th>1</th>\n",
       "      <td>EAST BOSTON</td>\n",
       "      <td>2128</td>\n",
       "      <td>1.0</td>\n",
       "      <td>1.0</td>\n",
       "      <td>RM - Row Middle</td>\n",
       "      <td>MA</td>\n",
       "      <td>3299.0</td>\n",
       "      <td>2307.0</td>\n",
       "      <td>$564,500.00</td>\n",
       "      <td>$744,800.00</td>\n",
       "      <td>$7,947.02</td>\n",
       "      <td>1920.0</td>\n",
       "      <td>M - Vinyl</td>\n",
       "      <td>A - Average</td>\n",
       "      <td>3.0</td>\n",
       "      <td>9.0</td>\n",
       "      <td>M - Modern</td>\n",
       "      <td>3F - 3 Full Eat In Kitchens</td>\n",
       "      <td>F - Forced Hot Air</td>\n",
       "      <td>C - Central AC</td>\n",
       "    </tr>\n",
       "    <tr>\n",
       "      <th>2</th>\n",
       "      <td>EAST BOSTON</td>\n",
       "      <td>2128</td>\n",
       "      <td>1.0</td>\n",
       "      <td>1.0</td>\n",
       "      <td>RM - Row Middle</td>\n",
       "      <td>MA</td>\n",
       "      <td>3392.0</td>\n",
       "      <td>2268.0</td>\n",
       "      <td>$549,700.00</td>\n",
       "      <td>$730,500.00</td>\n",
       "      <td>$7,794.44</td>\n",
       "      <td>1905.0</td>\n",
       "      <td>M - Vinyl</td>\n",
       "      <td>G - Good</td>\n",
       "      <td>3.0</td>\n",
       "      <td>13.0</td>\n",
       "      <td>M - Modern</td>\n",
       "      <td>3F - 3 Full Eat In Kitchens</td>\n",
       "      <td>S - Space Heat</td>\n",
       "      <td>N - None</td>\n",
       "    </tr>\n",
       "    <tr>\n",
       "      <th>3</th>\n",
       "      <td>EAST BOSTON</td>\n",
       "      <td>2128</td>\n",
       "      <td>1.0</td>\n",
       "      <td>1.0</td>\n",
       "      <td>RM - Row Middle</td>\n",
       "      <td>MA</td>\n",
       "      <td>3108.0</td>\n",
       "      <td>2028.0</td>\n",
       "      <td>$486,500.00</td>\n",
       "      <td>$667,900.00</td>\n",
       "      <td>$7,126.49</td>\n",
       "      <td>1900.0</td>\n",
       "      <td>M - Vinyl</td>\n",
       "      <td>A - Average</td>\n",
       "      <td>3.0</td>\n",
       "      <td>11.0</td>\n",
       "      <td>S - Semi-Modern</td>\n",
       "      <td>3F - 3 Full Eat In Kitchens</td>\n",
       "      <td>W - Ht Water/Steam</td>\n",
       "      <td>N - None</td>\n",
       "    </tr>\n",
       "    <tr>\n",
       "      <th>4</th>\n",
       "      <td>EAST BOSTON</td>\n",
       "      <td>2128</td>\n",
       "      <td>1.0</td>\n",
       "      <td>1.0</td>\n",
       "      <td>RE - Row End</td>\n",
       "      <td>MA</td>\n",
       "      <td>3700.0</td>\n",
       "      <td>2546.0</td>\n",
       "      <td>$511,400.00</td>\n",
       "      <td>$714,200.00</td>\n",
       "      <td>$7,620.52</td>\n",
       "      <td>1900.0</td>\n",
       "      <td>M - Vinyl</td>\n",
       "      <td>A - Average</td>\n",
       "      <td>2.0</td>\n",
       "      <td>13.0</td>\n",
       "      <td>S - Semi-Modern</td>\n",
       "      <td>2F - 2 Full Eat In Kitchens</td>\n",
       "      <td>W - Ht Water/Steam</td>\n",
       "      <td>N - None</td>\n",
       "    </tr>\n",
       "  </tbody>\n",
       "</table>\n",
       "</div>"
      ],
      "text/plain": [
       "          CITY  ZIPCODE  BLDG_SEQ  NUM_BLDGS        BLDG_TYPE MAIL_STATE  \\\n",
       "0  EAST BOSTON     2128       1.0        1.0     RE - Row End         MA   \n",
       "1  EAST BOSTON     2128       1.0        1.0  RM - Row Middle         MA   \n",
       "2  EAST BOSTON     2128       1.0        1.0  RM - Row Middle         MA   \n",
       "3  EAST BOSTON     2128       1.0        1.0  RM - Row Middle         MA   \n",
       "4  EAST BOSTON     2128       1.0        1.0     RE - Row End         MA   \n",
       "\n",
       "   GROSS_AREA  LIVING_AREA    BLDG_VALUE   TOTAL_VALUE   GROSS_TAX  YR_BUILT  \\\n",
       "0      3353.0       2202.0  $539,900.00   $719,400.00   $7,676.00     1900.0   \n",
       "1      3299.0       2307.0  $564,500.00   $744,800.00   $7,947.02     1920.0   \n",
       "2      3392.0       2268.0  $549,700.00   $730,500.00   $7,794.44     1905.0   \n",
       "3      3108.0       2028.0  $486,500.00   $667,900.00   $7,126.49     1900.0   \n",
       "4      3700.0       2546.0  $511,400.00   $714,200.00   $7,620.52     1900.0   \n",
       "\n",
       "   EXT_FINISHED     EXT_COND  KITCHEN  TT_RMS     BTHRM_STYLE1  \\\n",
       "0  A - Asbestos     F - Fair      3.0    12.0  S - Semi-Modern   \n",
       "1     M - Vinyl  A - Average      3.0     9.0       M - Modern   \n",
       "2     M - Vinyl     G - Good      3.0    13.0       M - Modern   \n",
       "3     M - Vinyl  A - Average      3.0    11.0  S - Semi-Modern   \n",
       "4     M - Vinyl  A - Average      2.0    13.0  S - Semi-Modern   \n",
       "\n",
       "                  KITCHEN_TYPE           HEAT_TYPE         AC_TYPE  \n",
       "0  3F - 3 Full Eat In Kitchens  W - Ht Water/Steam        N - None  \n",
       "1  3F - 3 Full Eat In Kitchens  F - Forced Hot Air  C - Central AC  \n",
       "2  3F - 3 Full Eat In Kitchens      S - Space Heat        N - None  \n",
       "3  3F - 3 Full Eat In Kitchens  W - Ht Water/Steam        N - None  \n",
       "4  2F - 2 Full Eat In Kitchens  W - Ht Water/Steam        N - None  "
      ]
     },
     "execution_count": 7,
     "metadata": {},
     "output_type": "execute_result"
    }
   ],
   "source": [
    "df.head()"
   ]
  },
  {
   "cell_type": "code",
   "execution_count": 8,
   "metadata": {},
   "outputs": [],
   "source": [
    "df.dropna(inplace=True)"
   ]
  },
  {
   "cell_type": "code",
   "execution_count": 9,
   "metadata": {},
   "outputs": [],
   "source": [
    "index_names = df[ df['MAIL_STATE'] != 'MA' ].index\n",
    "df.drop(index_names, inplace = True)"
   ]
  },
  {
   "cell_type": "code",
   "execution_count": 10,
   "metadata": {},
   "outputs": [],
   "source": [
    "df.drop('MAIL_STATE', inplace = True, axis='columns')"
   ]
  },
  {
   "cell_type": "code",
   "execution_count": 11,
   "metadata": {},
   "outputs": [],
   "source": [
    "df['BLDG_VALUE']=df['BLDG_VALUE'].str.replace(r'[\\$,]', '', regex=True).astype(float)\n",
    "df['TOTAL_VALUE']=df['TOTAL_VALUE'].str.replace(r'[\\$,]', '', regex=True).astype(float)\n",
    "df['GROSS_TAX']=df['GROSS_TAX'].str.replace(r'[\\$,]', '', regex=True).astype(float)"
   ]
  },
  {
   "cell_type": "code",
   "execution_count": 12,
   "metadata": {},
   "outputs": [
    {
     "data": {
      "text/plain": [
       "<Axes: ylabel='TOTAL_VALUE'>"
      ]
     },
     "execution_count": 12,
     "metadata": {},
     "output_type": "execute_result"
    },
    {
     "data": {
      "image/png": "[encoded data removed]",
      "text/plain": [
       "<Figure size 640x480 with 1 Axes>"
      ]
     },
     "metadata": {},
     "output_type": "display_data"
    }
   ],
   "source": [
    "sns.boxplot(data=df['TOTAL_VALUE'])"
   ]
  },
  {
   "cell_type": "code",
   "execution_count": 13,
   "metadata": {},
   "outputs": [],
   "source": [
    "index_names = df[ df.TOTAL_VALUE>2000000 ].index\n",
    "df.drop(index_names, inplace = True)"
   ]
  },
  {
   "cell_type": "code",
   "execution_count": 14,
   "metadata": {},
   "outputs": [],
   "source": [
    "## Converting numerical values into string as they are categorical values. \n",
    "df['ZIPCODE'] = df['ZIPCODE'].apply(str)\n",
    "df['YR_BUILT'] = df['YR_BUILT'].apply(str)"
   ]
  },
  {
   "cell_type": "code",
   "execution_count": 15,
   "metadata": {},
   "outputs": [],
   "source": [
    "df1 = df.select_dtypes(include=[object])"
   ]
  },
  {
   "cell_type": "code",
   "execution_count": 16,
   "metadata": {},
   "outputs": [
    {
     "data": {
      "text/plain": [
       "Index(['CITY', 'ZIPCODE', 'BLDG_TYPE', 'YR_BUILT', 'EXT_FINISHED', 'EXT_COND',\n",
       "       'BTHRM_STYLE1', 'KITCHEN_TYPE', 'HEAT_TYPE', 'AC_TYPE'],\n",
       "      dtype='object')"
      ]
     },
     "execution_count": 16,
     "metadata": {},
     "output_type": "execute_result"
    }
   ],
   "source": [
    "df1.columns"
   ]
  },
  {
   "cell_type": "code",
   "execution_count": 17,
   "metadata": {},
   "outputs": [
    {
     "data": {
      "text/html": [
       "<div>\n",
       "<style scoped>\n",
       "    .dataframe tbody tr th:only-of-type {\n",
       "        vertical-align: middle;\n",
       "    }\n",
       "\n",
       "    .dataframe tbody tr th {\n",
       "        vertical-align: top;\n",
       "    }\n",
       "\n",
       "    .dataframe thead th {\n",
       "        text-align: right;\n",
       "    }\n",
       "</style>\n",
       "<table border=\"1\" class=\"dataframe\">\n",
       "  <thead>\n",
       "    <tr style=\"text-align: right;\">\n",
       "      <th></th>\n",
       "      <th>CITY</th>\n",
       "      <th>ZIPCODE</th>\n",
       "      <th>BLDG_TYPE</th>\n",
       "      <th>YR_BUILT</th>\n",
       "      <th>EXT_FINISHED</th>\n",
       "      <th>EXT_COND</th>\n",
       "      <th>BTHRM_STYLE1</th>\n",
       "      <th>KITCHEN_TYPE</th>\n",
       "      <th>HEAT_TYPE</th>\n",
       "      <th>AC_TYPE</th>\n",
       "    </tr>\n",
       "  </thead>\n",
       "  <tbody>\n",
       "    <tr>\n",
       "      <th>0</th>\n",
       "      <td>8</td>\n",
       "      <td>18</td>\n",
       "      <td>16</td>\n",
       "      <td>104</td>\n",
       "      <td>3</td>\n",
       "      <td>2</td>\n",
       "      <td>3</td>\n",
       "      <td>3</td>\n",
       "      <td>6</td>\n",
       "      <td>2</td>\n",
       "    </tr>\n",
       "    <tr>\n",
       "      <th>1</th>\n",
       "      <td>8</td>\n",
       "      <td>18</td>\n",
       "      <td>17</td>\n",
       "      <td>124</td>\n",
       "      <td>9</td>\n",
       "      <td>0</td>\n",
       "      <td>1</td>\n",
       "      <td>3</td>\n",
       "      <td>1</td>\n",
       "      <td>0</td>\n",
       "    </tr>\n",
       "    <tr>\n",
       "      <th>2</th>\n",
       "      <td>8</td>\n",
       "      <td>18</td>\n",
       "      <td>17</td>\n",
       "      <td>109</td>\n",
       "      <td>9</td>\n",
       "      <td>3</td>\n",
       "      <td>1</td>\n",
       "      <td>3</td>\n",
       "      <td>5</td>\n",
       "      <td>2</td>\n",
       "    </tr>\n",
       "    <tr>\n",
       "      <th>3</th>\n",
       "      <td>8</td>\n",
       "      <td>18</td>\n",
       "      <td>17</td>\n",
       "      <td>104</td>\n",
       "      <td>9</td>\n",
       "      <td>0</td>\n",
       "      <td>3</td>\n",
       "      <td>3</td>\n",
       "      <td>6</td>\n",
       "      <td>2</td>\n",
       "    </tr>\n",
       "    <tr>\n",
       "      <th>4</th>\n",
       "      <td>8</td>\n",
       "      <td>18</td>\n",
       "      <td>16</td>\n",
       "      <td>104</td>\n",
       "      <td>9</td>\n",
       "      <td>0</td>\n",
       "      <td>3</td>\n",
       "      <td>2</td>\n",
       "      <td>6</td>\n",
       "      <td>2</td>\n",
       "    </tr>\n",
       "  </tbody>\n",
       "</table>\n",
       "</div>"
      ],
      "text/plain": [
       "   CITY  ZIPCODE  BLDG_TYPE  YR_BUILT  EXT_FINISHED  EXT_COND  BTHRM_STYLE1  \\\n",
       "0     8       18         16       104             3         2             3   \n",
       "1     8       18         17       124             9         0             1   \n",
       "2     8       18         17       109             9         3             1   \n",
       "3     8       18         17       104             9         0             3   \n",
       "4     8       18         16       104             9         0             3   \n",
       "\n",
       "   KITCHEN_TYPE  HEAT_TYPE  AC_TYPE  \n",
       "0             3          6        2  \n",
       "1             3          1        0  \n",
       "2             3          5        2  \n",
       "3             3          6        2  \n",
       "4             2          6        2  "
      ]
     },
     "execution_count": 17,
     "metadata": {},
     "output_type": "execute_result"
    }
   ],
   "source": [
    "le = LabelEncoder()\n",
    "trans_to_int= df1.apply(le.fit_transform)\n",
    "trans_to_int.head()"
   ]
  },
  {
   "cell_type": "code",
   "execution_count": 18,
   "metadata": {},
   "outputs": [
    {
     "data": {
      "text/html": [
       "<div>\n",
       "<style scoped>\n",
       "    .dataframe tbody tr th:only-of-type {\n",
       "        vertical-align: middle;\n",
       "    }\n",
       "\n",
       "    .dataframe tbody tr th {\n",
       "        vertical-align: top;\n",
       "    }\n",
       "\n",
       "    .dataframe thead th {\n",
       "        text-align: right;\n",
       "    }\n",
       "</style>\n",
       "<table border=\"1\" class=\"dataframe\">\n",
       "  <thead>\n",
       "    <tr style=\"text-align: right;\">\n",
       "      <th></th>\n",
       "      <th>BLDG_SEQ</th>\n",
       "      <th>NUM_BLDGS</th>\n",
       "      <th>GROSS_AREA</th>\n",
       "      <th>LIVING_AREA</th>\n",
       "      <th>BLDG_VALUE</th>\n",
       "      <th>TOTAL_VALUE</th>\n",
       "      <th>GROSS_TAX</th>\n",
       "      <th>KITCHEN</th>\n",
       "      <th>TT_RMS</th>\n",
       "    </tr>\n",
       "  </thead>\n",
       "  <tbody>\n",
       "    <tr>\n",
       "      <th>0</th>\n",
       "      <td>1.0</td>\n",
       "      <td>1.0</td>\n",
       "      <td>3353.0</td>\n",
       "      <td>2202.0</td>\n",
       "      <td>539900.0</td>\n",
       "      <td>719400.0</td>\n",
       "      <td>7676.00</td>\n",
       "      <td>3.0</td>\n",
       "      <td>12.0</td>\n",
       "    </tr>\n",
       "    <tr>\n",
       "      <th>1</th>\n",
       "      <td>1.0</td>\n",
       "      <td>1.0</td>\n",
       "      <td>3299.0</td>\n",
       "      <td>2307.0</td>\n",
       "      <td>564500.0</td>\n",
       "      <td>744800.0</td>\n",
       "      <td>7947.02</td>\n",
       "      <td>3.0</td>\n",
       "      <td>9.0</td>\n",
       "    </tr>\n",
       "  </tbody>\n",
       "</table>\n",
       "</div>"
      ],
      "text/plain": [
       "   BLDG_SEQ  NUM_BLDGS  GROSS_AREA  LIVING_AREA  BLDG_VALUE  TOTAL_VALUE  \\\n",
       "0       1.0        1.0      3353.0       2202.0    539900.0     719400.0   \n",
       "1       1.0        1.0      3299.0       2307.0    564500.0     744800.0   \n",
       "\n",
       "   GROSS_TAX  KITCHEN  TT_RMS  \n",
       "0    7676.00      3.0    12.0  \n",
       "1    7947.02      3.0     9.0  "
      ]
     },
     "execution_count": 18,
     "metadata": {},
     "output_type": "execute_result"
    }
   ],
   "source": [
    "df2 = df.drop(df1.columns, inplace = False, axis='columns')\n",
    "df2.head(2)"
   ]
  },
  {
   "cell_type": "code",
   "execution_count": 19,
   "metadata": {},
   "outputs": [],
   "source": [
    "final_df = pd.concat([df2, trans_to_int],axis = 1)"
   ]
  },
  {
   "cell_type": "code",
   "execution_count": 20,
   "metadata": {},
   "outputs": [
    {
     "data": {
      "text/plain": [
       "Index(['BLDG_SEQ', 'NUM_BLDGS', 'GROSS_AREA', 'LIVING_AREA', 'BLDG_VALUE',\n",
       "       'TOTAL_VALUE', 'GROSS_TAX', 'KITCHEN', 'TT_RMS', 'CITY', 'ZIPCODE',\n",
       "       'BLDG_TYPE', 'YR_BUILT', 'EXT_FINISHED', 'EXT_COND', 'BTHRM_STYLE1',\n",
       "       'KITCHEN_TYPE', 'HEAT_TYPE', 'AC_TYPE'],\n",
       "      dtype='object')"
      ]
     },
     "execution_count": 20,
     "metadata": {},
     "output_type": "execute_result"
    }
   ],
   "source": [
    "final_df.columns"
   ]
  },
  {
   "cell_type": "code",
   "execution_count": 21,
   "metadata": {},
   "outputs": [
    {
     "data": {
      "text/plain": [
       "GROSS_TAX_bins\n",
       "2    65474\n",
       "1    33580\n",
       "3    15320\n",
       "4     4287\n",
       "5      947\n",
       "Name: count, dtype: int64"
      ]
     },
     "execution_count": 21,
     "metadata": {},
     "output_type": "execute_result"
    }
   ],
   "source": [
    "final_df['GROSS_TAX_bins'] = pd.cut(final_df.GROSS_TAX, bins=5, labels=[1,2,3,4,5], include_lowest=True)\n",
    "\n",
    "final_df['GROSS_TAX_bins'] = [int(x) for x in final_df['GROSS_TAX_bins']]\n",
    "\n",
    "final_df.GROSS_TAX_bins.value_counts()"
   ]
  },
  {
   "cell_type": "code",
   "execution_count": 22,
   "metadata": {},
   "outputs": [
    {
     "data": {
      "text/plain": [
       "TOTAL_VALUE_bins\n",
       "2    59094\n",
       "1    41746\n",
       "3    13255\n",
       "4     3891\n",
       "5     1622\n",
       "Name: count, dtype: int64"
      ]
     },
     "execution_count": 22,
     "metadata": {},
     "output_type": "execute_result"
    }
   ],
   "source": [
    "final_df['TOTAL_VALUE_bins'] = pd.cut(final_df.BLDG_VALUE, bins=5, labels=[1,2,3,4,5], include_lowest=True)\n",
    "\n",
    "final_df['TOTAL_VALUE_bins'] = [int(x) for x in final_df['TOTAL_VALUE_bins']]\n",
    "\n",
    "final_df.TOTAL_VALUE_bins.value_counts()"
   ]
  },
  {
   "cell_type": "code",
   "execution_count": 23,
   "metadata": {},
   "outputs": [],
   "source": [
    "index_names = ['TOTAL_VALUE','BLDG_VALUE','GROSS_TAX'] \n",
    "final_df = final_df.drop(index_names, inplace = False, axis='columns')"
   ]
  },
  {
   "cell_type": "markdown",
   "metadata": {},
   "source": [
    "# Vector Inflation Fator"
   ]
  },
  {
   "cell_type": "code",
   "execution_count": 24,
   "metadata": {},
   "outputs": [
    {
     "name": "stdout",
     "output_type": "stream",
     "text": [
      "           feature          VIF\n",
      "0         BLDG_SEQ  1811.051453\n",
      "1        NUM_BLDGS     1.042021\n",
      "2       GROSS_AREA    33.108900\n",
      "3      LIVING_AREA    26.485995\n",
      "4          KITCHEN     4.579493\n",
      "5           TT_RMS    10.610755\n",
      "6             CITY     1.394325\n",
      "7          ZIPCODE     1.243119\n",
      "8        BLDG_TYPE     1.197754\n",
      "9         YR_BUILT     1.257707\n",
      "10    EXT_FINISHED     1.451419\n",
      "11        EXT_COND     1.319150\n",
      "12    BTHRM_STYLE1     1.325285\n",
      "13    KITCHEN_TYPE     3.655332\n",
      "14       HEAT_TYPE     1.323527\n",
      "15         AC_TYPE     1.884788\n",
      "16  GROSS_TAX_bins     1.594462\n"
     ]
    }
   ],
   "source": [
    "#====================1. Verifying Vector Inflation Factor==========================\n",
    "from statsmodels.stats.outliers_influence import variance_inflation_factor\n",
    "X = final_df.drop(['TOTAL_VALUE_bins'], axis=1)\n",
    "# VIF dataframe\n",
    "inf_data = pd.DataFrame()\n",
    "inf_data[\"feature\"] = X.columns\n",
    "inf_data[\"VIF\"] = [variance_inflation_factor(X.values, i) for i in range(len(X.columns))]\n",
    "\n",
    "print(inf_data)"
   ]
  },
  {
   "cell_type": "code",
   "execution_count": 25,
   "metadata": {},
   "outputs": [],
   "source": [
    "index_names = ['BLDG_SEQ'] \n",
    "final_df = final_df.drop(index_names, inplace = False, axis='columns')"
   ]
  },
  {
   "cell_type": "code",
   "execution_count": 26,
   "metadata": {},
   "outputs": [
    {
     "name": "stdout",
     "output_type": "stream",
     "text": [
      "           feature        VIF\n",
      "0        NUM_BLDGS  77.625444\n",
      "1       GROSS_AREA  96.163640\n",
      "2      LIVING_AREA  93.747889\n",
      "3          KITCHEN  23.167277\n",
      "4           TT_RMS  41.928119\n",
      "5             CITY   4.338028\n",
      "6          ZIPCODE   9.849952\n",
      "7        BLDG_TYPE   7.757946\n",
      "8         YR_BUILT  14.181773\n",
      "9     EXT_FINISHED   7.349462\n",
      "10        EXT_COND   2.132260\n",
      "11    BTHRM_STYLE1   6.442493\n",
      "12    KITCHEN_TYPE  11.809041\n",
      "13       HEAT_TYPE   4.627079\n",
      "14         AC_TYPE   5.388078\n",
      "15  GROSS_TAX_bins  11.052882\n"
     ]
    }
   ],
   "source": [
    "#====================2. Verifying Vector Inflation Factor==========================\n",
    "X = final_df.drop(['TOTAL_VALUE_bins'], axis=1)\n",
    "inf_data = pd.DataFrame()\n",
    "inf_data[\"feature\"] = X.columns\n",
    "inf_data[\"VIF\"] = [variance_inflation_factor(X.values, i) for i in range(len(X.columns))]\n",
    "print(inf_data)"
   ]
  },
  {
   "cell_type": "code",
   "execution_count": 27,
   "metadata": {},
   "outputs": [],
   "source": [
    "index_names = ['NUM_BLDGS','GROSS_AREA','TT_RMS','LIVING_AREA','ZIPCODE'] \n",
    "final_df = final_df.drop(index_names, inplace = False, axis='columns')"
   ]
  },
  {
   "cell_type": "code",
   "execution_count": 28,
   "metadata": {},
   "outputs": [
    {
     "name": "stdout",
     "output_type": "stream",
     "text": [
      "           feature        VIF\n",
      "0          KITCHEN   6.822516\n",
      "1             CITY   3.879855\n",
      "2        BLDG_TYPE   7.135383\n",
      "3         YR_BUILT  10.083273\n",
      "4     EXT_FINISHED   6.375018\n",
      "5         EXT_COND   2.090385\n",
      "6     BTHRM_STYLE1   5.771876\n",
      "7     KITCHEN_TYPE   4.883108\n",
      "8        HEAT_TYPE   4.436231\n",
      "9          AC_TYPE   4.808574\n",
      "10  GROSS_TAX_bins   7.597339\n"
     ]
    }
   ],
   "source": [
    "#====================3. Verifying Vector Inflation Factor==========================\n",
    "X = final_df.drop(['TOTAL_VALUE_bins'], axis=1)\n",
    "inf_data = pd.DataFrame()\n",
    "inf_data[\"feature\"] = X.columns\n",
    "inf_data[\"VIF\"] = [variance_inflation_factor(X.values, i) for i in range(len(X.columns))]\n",
    "print(inf_data)"
   ]
  },
  {
   "cell_type": "code",
   "execution_count": 29,
   "metadata": {},
   "outputs": [],
   "source": [
    "#====================Removing Year Columnn=================\n",
    "index_names = ['YR_BUILT'] \n",
    "final_df = final_df.drop(index_names, inplace = False, axis='columns')"
   ]
  },
  {
   "cell_type": "code",
   "execution_count": 30,
   "metadata": {},
   "outputs": [
    {
     "name": "stdout",
     "output_type": "stream",
     "text": [
      "          feature       VIF\n",
      "0         KITCHEN  6.819874\n",
      "1            CITY  3.558453\n",
      "2       BLDG_TYPE  6.970190\n",
      "3    EXT_FINISHED  5.973974\n",
      "4        EXT_COND  2.045493\n",
      "5    BTHRM_STYLE1  5.554105\n",
      "6    KITCHEN_TYPE  4.202457\n",
      "7       HEAT_TYPE  4.435504\n",
      "8         AC_TYPE  4.772157\n",
      "9  GROSS_TAX_bins  7.314526\n"
     ]
    }
   ],
   "source": [
    "#====================4. Verifying Vector Inflation Factor==========================\n",
    "X = final_df.drop(['TOTAL_VALUE_bins'], axis=1)\n",
    "inf_data = pd.DataFrame()\n",
    "inf_data[\"feature\"] = X.columns\n",
    "inf_data[\"VIF\"] = [variance_inflation_factor(X.values, i) for i in range(len(X.columns))]\n",
    "print(inf_data)"
   ]
  },
  {
   "cell_type": "code",
   "execution_count": 31,
   "metadata": {},
   "outputs": [],
   "source": [
    "Models = []"
   ]
  },
  {
   "cell_type": "code",
   "execution_count": 32,
   "metadata": {},
   "outputs": [
    {
     "data": {
      "text/html": [
       "<div>\n",
       "<style scoped>\n",
       "    .dataframe tbody tr th:only-of-type {\n",
       "        vertical-align: middle;\n",
       "    }\n",
       "\n",
       "    .dataframe tbody tr th {\n",
       "        vertical-align: top;\n",
       "    }\n",
       "\n",
       "    .dataframe thead th {\n",
       "        text-align: right;\n",
       "    }\n",
       "</style>\n",
       "<table border=\"1\" class=\"dataframe\">\n",
       "  <thead>\n",
       "    <tr style=\"text-align: right;\">\n",
       "      <th></th>\n",
       "      <th>KITCHEN</th>\n",
       "      <th>CITY</th>\n",
       "      <th>BLDG_TYPE</th>\n",
       "      <th>EXT_FINISHED</th>\n",
       "      <th>EXT_COND</th>\n",
       "      <th>BTHRM_STYLE1</th>\n",
       "      <th>KITCHEN_TYPE</th>\n",
       "      <th>HEAT_TYPE</th>\n",
       "      <th>AC_TYPE</th>\n",
       "      <th>GROSS_TAX_bins</th>\n",
       "      <th>TOTAL_VALUE_bins</th>\n",
       "    </tr>\n",
       "  </thead>\n",
       "  <tbody>\n",
       "    <tr>\n",
       "      <th>KITCHEN</th>\n",
       "      <td>1.000000</td>\n",
       "      <td>0.104035</td>\n",
       "      <td>-0.016981</td>\n",
       "      <td>0.212442</td>\n",
       "      <td>-0.203463</td>\n",
       "      <td>0.137669</td>\n",
       "      <td>-0.372287</td>\n",
       "      <td>0.157196</td>\n",
       "      <td>0.290123</td>\n",
       "      <td>0.273593</td>\n",
       "      <td>0.097349</td>\n",
       "    </tr>\n",
       "    <tr>\n",
       "      <th>CITY</th>\n",
       "      <td>0.104035</td>\n",
       "      <td>1.000000</td>\n",
       "      <td>-0.207479</td>\n",
       "      <td>0.375742</td>\n",
       "      <td>-0.107021</td>\n",
       "      <td>0.055045</td>\n",
       "      <td>-0.419104</td>\n",
       "      <td>0.014036</td>\n",
       "      <td>0.098712</td>\n",
       "      <td>-0.121050</td>\n",
       "      <td>-0.258976</td>\n",
       "    </tr>\n",
       "    <tr>\n",
       "      <th>BLDG_TYPE</th>\n",
       "      <td>-0.016981</td>\n",
       "      <td>-0.207479</td>\n",
       "      <td>1.000000</td>\n",
       "      <td>-0.251716</td>\n",
       "      <td>0.096937</td>\n",
       "      <td>-0.039946</td>\n",
       "      <td>0.327830</td>\n",
       "      <td>-0.082417</td>\n",
       "      <td>-0.103585</td>\n",
       "      <td>0.045774</td>\n",
       "      <td>0.147371</td>\n",
       "    </tr>\n",
       "    <tr>\n",
       "      <th>EXT_FINISHED</th>\n",
       "      <td>0.212442</td>\n",
       "      <td>0.375742</td>\n",
       "      <td>-0.251716</td>\n",
       "      <td>1.000000</td>\n",
       "      <td>-0.231192</td>\n",
       "      <td>0.109708</td>\n",
       "      <td>-0.494600</td>\n",
       "      <td>0.133847</td>\n",
       "      <td>0.229223</td>\n",
       "      <td>-0.031737</td>\n",
       "      <td>-0.199197</td>\n",
       "    </tr>\n",
       "    <tr>\n",
       "      <th>EXT_COND</th>\n",
       "      <td>-0.203463</td>\n",
       "      <td>-0.107021</td>\n",
       "      <td>0.096937</td>\n",
       "      <td>-0.231192</td>\n",
       "      <td>1.000000</td>\n",
       "      <td>-0.300429</td>\n",
       "      <td>0.333651</td>\n",
       "      <td>-0.261162</td>\n",
       "      <td>-0.407582</td>\n",
       "      <td>0.152941</td>\n",
       "      <td>0.290618</td>\n",
       "    </tr>\n",
       "    <tr>\n",
       "      <th>BTHRM_STYLE1</th>\n",
       "      <td>0.137669</td>\n",
       "      <td>0.055045</td>\n",
       "      <td>-0.039946</td>\n",
       "      <td>0.109708</td>\n",
       "      <td>-0.300429</td>\n",
       "      <td>1.000000</td>\n",
       "      <td>-0.225280</td>\n",
       "      <td>0.272028</td>\n",
       "      <td>0.401934</td>\n",
       "      <td>-0.265090</td>\n",
       "      <td>-0.380003</td>\n",
       "    </tr>\n",
       "    <tr>\n",
       "      <th>KITCHEN_TYPE</th>\n",
       "      <td>-0.372287</td>\n",
       "      <td>-0.419104</td>\n",
       "      <td>0.327830</td>\n",
       "      <td>-0.494600</td>\n",
       "      <td>0.333651</td>\n",
       "      <td>-0.225280</td>\n",
       "      <td>1.000000</td>\n",
       "      <td>-0.256208</td>\n",
       "      <td>-0.405132</td>\n",
       "      <td>-0.064306</td>\n",
       "      <td>0.267932</td>\n",
       "    </tr>\n",
       "    <tr>\n",
       "      <th>HEAT_TYPE</th>\n",
       "      <td>0.157196</td>\n",
       "      <td>0.014036</td>\n",
       "      <td>-0.082417</td>\n",
       "      <td>0.133847</td>\n",
       "      <td>-0.261162</td>\n",
       "      <td>0.272028</td>\n",
       "      <td>-0.256208</td>\n",
       "      <td>1.000000</td>\n",
       "      <td>0.458081</td>\n",
       "      <td>-0.057933</td>\n",
       "      <td>-0.161333</td>\n",
       "    </tr>\n",
       "    <tr>\n",
       "      <th>AC_TYPE</th>\n",
       "      <td>0.290123</td>\n",
       "      <td>0.098712</td>\n",
       "      <td>-0.103585</td>\n",
       "      <td>0.229223</td>\n",
       "      <td>-0.407582</td>\n",
       "      <td>0.401934</td>\n",
       "      <td>-0.405132</td>\n",
       "      <td>0.458081</td>\n",
       "      <td>1.000000</td>\n",
       "      <td>-0.220206</td>\n",
       "      <td>-0.368022</td>\n",
       "    </tr>\n",
       "    <tr>\n",
       "      <th>GROSS_TAX_bins</th>\n",
       "      <td>0.273593</td>\n",
       "      <td>-0.121050</td>\n",
       "      <td>0.045774</td>\n",
       "      <td>-0.031737</td>\n",
       "      <td>0.152941</td>\n",
       "      <td>-0.265090</td>\n",
       "      <td>-0.064306</td>\n",
       "      <td>-0.057933</td>\n",
       "      <td>-0.220206</td>\n",
       "      <td>1.000000</td>\n",
       "      <td>0.783315</td>\n",
       "    </tr>\n",
       "    <tr>\n",
       "      <th>TOTAL_VALUE_bins</th>\n",
       "      <td>0.097349</td>\n",
       "      <td>-0.258976</td>\n",
       "      <td>0.147371</td>\n",
       "      <td>-0.199197</td>\n",
       "      <td>0.290618</td>\n",
       "      <td>-0.380003</td>\n",
       "      <td>0.267932</td>\n",
       "      <td>-0.161333</td>\n",
       "      <td>-0.368022</td>\n",
       "      <td>0.783315</td>\n",
       "      <td>1.000000</td>\n",
       "    </tr>\n",
       "  </tbody>\n",
       "</table>\n",
       "</div>"
      ],
      "text/plain": [
       "                   KITCHEN      CITY  BLDG_TYPE  EXT_FINISHED  EXT_COND  \\\n",
       "KITCHEN           1.000000  0.104035  -0.016981      0.212442 -0.203463   \n",
       "CITY              0.104035  1.000000  -0.207479      0.375742 -0.107021   \n",
       "BLDG_TYPE        -0.016981 -0.207479   1.000000     -0.251716  0.096937   \n",
       "EXT_FINISHED      0.212442  0.375742  -0.251716      1.000000 -0.231192   \n",
       "EXT_COND         -0.203463 -0.107021   0.096937     -0.231192  1.000000   \n",
       "BTHRM_STYLE1      0.137669  0.055045  -0.039946      0.109708 -0.300429   \n",
       "KITCHEN_TYPE     -0.372287 -0.419104   0.327830     -0.494600  0.333651   \n",
       "HEAT_TYPE         0.157196  0.014036  -0.082417      0.133847 -0.261162   \n",
       "AC_TYPE           0.290123  0.098712  -0.103585      0.229223 -0.407582   \n",
       "GROSS_TAX_bins    0.273593 -0.121050   0.045774     -0.031737  0.152941   \n",
       "TOTAL_VALUE_bins  0.097349 -0.258976   0.147371     -0.199197  0.290618   \n",
       "\n",
       "                  BTHRM_STYLE1  KITCHEN_TYPE  HEAT_TYPE   AC_TYPE  \\\n",
       "KITCHEN               0.137669     -0.372287   0.157196  0.290123   \n",
       "CITY                  0.055045     -0.419104   0.014036  0.098712   \n",
       "BLDG_TYPE            -0.039946      0.327830  -0.082417 -0.103585   \n",
       "EXT_FINISHED          0.109708     -0.494600   0.133847  0.229223   \n",
       "EXT_COND             -0.300429      0.333651  -0.261162 -0.407582   \n",
       "BTHRM_STYLE1          1.000000     -0.225280   0.272028  0.401934   \n",
       "KITCHEN_TYPE         -0.225280      1.000000  -0.256208 -0.405132   \n",
       "HEAT_TYPE             0.272028     -0.256208   1.000000  0.458081   \n",
       "AC_TYPE               0.401934     -0.405132   0.458081  1.000000   \n",
       "GROSS_TAX_bins       -0.265090     -0.064306  -0.057933 -0.220206   \n",
       "TOTAL_VALUE_bins     -0.380003      0.267932  -0.161333 -0.368022   \n",
       "\n",
       "                  GROSS_TAX_bins  TOTAL_VALUE_bins  \n",
       "KITCHEN                 0.273593          0.097349  \n",
       "CITY                   -0.121050         -0.258976  \n",
       "BLDG_TYPE               0.045774          0.147371  \n",
       "EXT_FINISHED           -0.031737         -0.199197  \n",
       "EXT_COND                0.152941          0.290618  \n",
       "BTHRM_STYLE1           -0.265090         -0.380003  \n",
       "KITCHEN_TYPE           -0.064306          0.267932  \n",
       "HEAT_TYPE              -0.057933         -0.161333  \n",
       "AC_TYPE                -0.220206         -0.368022  \n",
       "GROSS_TAX_bins          1.000000          0.783315  \n",
       "TOTAL_VALUE_bins        0.783315          1.000000  "
      ]
     },
     "execution_count": 32,
     "metadata": {},
     "output_type": "execute_result"
    }
   ],
   "source": [
    "final_df.corr()"
   ]
  },
  {
   "cell_type": "code",
   "execution_count": 33,
   "metadata": {},
   "outputs": [],
   "source": [
    "X= final_df.drop(['TOTAL_VALUE_bins'], axis=1)\n",
    "y=final_df['TOTAL_VALUE_bins']\n",
    "X_train, X_test, y_train, y_test = train_test_split(X, y, test_size=0.3, random_state=123)"
   ]
  },
  {
   "cell_type": "code",
   "execution_count": 34,
   "metadata": {},
   "outputs": [
    {
     "name": "stdout",
     "output_type": "stream",
     "text": [
      "X_train:  (83725, 10)\n",
      "X_test:  (35883, 10)\n",
      "y_train:  (83725,)\n",
      "y_test:  (35883,)\n"
     ]
    }
   ],
   "source": [
    "print('X_train: ',X_train.shape)\n",
    "print('X_test: ',X_test.shape)\n",
    "print('y_train: ',y_train.shape)\n",
    "print('y_test: ',y_test.shape)"
   ]
  },
  {
   "cell_type": "code",
   "execution_count": 35,
   "metadata": {},
   "outputs": [
    {
     "name": "stdout",
     "output_type": "stream",
     "text": [
      "Total time taken for training the model 0.013223409652709961\n",
      "Coefficient of Determination: 0.7337858780050132\n"
     ]
    }
   ],
   "source": [
    "model = LinearRegression()\n",
    "start_time = time.time()\n",
    "model = LinearRegression().fit(X_train, y_train)\n",
    "print(f\"Total time taken for training the model {(time.time() - start_time)}\")\n",
    "r_sq = model.score(X_test, y_test)\n",
    "print('Coefficient of Determination:', r_sq)"
   ]
  },
  {
   "cell_type": "code",
   "execution_count": 36,
   "metadata": {},
   "outputs": [
    {
     "name": "stdout",
     "output_type": "stream",
     "text": [
      "                                 OLS Regression Results                                \n",
      "=======================================================================================\n",
      "Dep. Variable:       TOTAL_VALUE_bins   R-squared (uncentered):                   0.955\n",
      "Model:                            OLS   Adj. R-squared (uncentered):              0.955\n",
      "Method:                 Least Squares   F-statistic:                          1.779e+05\n",
      "Date:                Thu, 08 Aug 2024   Prob (F-statistic):                        0.00\n",
      "Time:                        01:23:12   Log-Likelihood:                         -48766.\n",
      "No. Observations:               83725   AIC:                                  9.755e+04\n",
      "Df Residuals:                   83715   BIC:                                  9.765e+04\n",
      "Df Model:                          10                                                  \n",
      "Covariance Type:            nonrobust                                                  \n",
      "==================================================================================\n",
      "                     coef    std err          t      P>|t|      [0.025      0.975]\n",
      "----------------------------------------------------------------------------------\n",
      "KITCHEN            0.0420      0.003     16.378      0.000       0.037       0.047\n",
      "CITY              -0.0056      0.000    -17.860      0.000      -0.006      -0.005\n",
      "BLDG_TYPE          0.0032      0.000     10.954      0.000       0.003       0.004\n",
      "EXT_FINISHED       0.0027      0.000      6.199      0.000       0.002       0.004\n",
      "EXT_COND           0.0308      0.001     25.979      0.000       0.029       0.033\n",
      "BTHRM_STYLE1      -0.0633      0.002    -40.340      0.000      -0.066      -0.060\n",
      "KITCHEN_TYPE       0.0761      0.001    134.711      0.000       0.075       0.077\n",
      "HEAT_TYPE          0.0032      0.001      4.670      0.000       0.002       0.005\n",
      "AC_TYPE           -0.0353      0.002    -17.330      0.000      -0.039      -0.031\n",
      "GROSS_TAX_bins     0.8077      0.002    417.598      0.000       0.804       0.811\n",
      "==============================================================================\n",
      "Omnibus:                     1940.510   Durbin-Watson:                   2.007\n",
      "Prob(Omnibus):                  0.000   Jarque-Bera (JB):             2059.552\n",
      "Skew:                           0.378   Prob(JB):                         0.00\n",
      "Kurtosis:                       2.866   Cond. No.                         35.0\n",
      "==============================================================================\n",
      "\n",
      "Notes:\n",
      "[1] R² is computed without centering (uncentered) since the model does not contain a constant.\n",
      "[2] Standard Errors assume that the covariance matrix of the errors is correctly specified.\n"
     ]
    }
   ],
   "source": [
    "mod = sm.OLS(y_train, X_train)\n",
    "res = mod.fit()\n",
    "print(res.summary())"
   ]
  },
  {
   "cell_type": "code",
   "execution_count": 37,
   "metadata": {},
   "outputs": [
    {
     "data": {
      "text/plain": [
       "0.7503831898113312"
      ]
     },
     "execution_count": 37,
     "metadata": {},
     "output_type": "execute_result"
    }
   ],
   "source": [
    "pred = model.predict(X_test)\n",
    "prediction = list(map(round, pred))\n",
    "accuracy = accuracy_score(y_test, prediction)\n",
    "Models.append(['Linear Regression', accuracy])\n",
    "accuracy"
   ]
  },
  {
   "cell_type": "code",
   "execution_count": 38,
   "metadata": {},
   "outputs": [
    {
     "data": {
      "image/png": "[encoded data removed]",
      "text/plain": [
       "<Figure size 640x480 with 2 Axes>"
      ]
     },
     "metadata": {},
     "output_type": "display_data"
    }
   ],
   "source": [
    "#=====================Confusion Matrix for Linear Regression=========================\n",
    "cm = confusion_matrix(y_test, prediction)\n",
    "dictsplay_labels=y.unique()\n",
    "disp = ConfusionMatrixDisplay(confusion_matrix=cm, display_labels=dictsplay_labels)\n",
    "disp = disp.plot()\n",
    "plt.show()"
   ]
  },
  {
   "cell_type": "markdown",
   "metadata": {},
   "source": [
    "# Random Forest"
   ]
  },
  {
   "cell_type": "code",
   "execution_count": 39,
   "metadata": {},
   "outputs": [],
   "source": [
    "regr = RandomForestRegressor(max_depth=2, random_state=0)"
   ]
  },
  {
   "cell_type": "code",
   "execution_count": 40,
   "metadata": {},
   "outputs": [
    {
     "name": "stdout",
     "output_type": "stream",
     "text": [
      "Total time taken for training the model 1.8206145763397217\n"
     ]
    }
   ],
   "source": [
    "start_time = time.time()\n",
    "regr.fit(X_train, y_train)\n",
    "print(f\"Total time taken for training the model {(time.time() - start_time)}\")"
   ]
  },
  {
   "cell_type": "code",
   "execution_count": 41,
   "metadata": {},
   "outputs": [
    {
     "data": {
      "text/plain": [
       "0.6262424107927356"
      ]
     },
     "execution_count": 41,
     "metadata": {},
     "output_type": "execute_result"
    }
   ],
   "source": [
    "y_pred=regr.predict(X_test)\n",
    "regr.score(X_test, y_test)\n",
    "accuracy = regr.score(X_test, y_test)\n",
    "Models.append(['Random Forest',accuracy])\n",
    "accuracy"
   ]
  },
  {
   "cell_type": "code",
   "execution_count": 42,
   "metadata": {},
   "outputs": [
    {
     "data": {
      "image/png": "[encoded data removed]",
      "text/plain": [
       "<Figure size 640x480 with 2 Axes>"
      ]
     },
     "metadata": {},
     "output_type": "display_data"
    }
   ],
   "source": [
    "#=====================Confusion Matrix for Random Forest=========================\n",
    "pred = regr.predict(X_test)\n",
    "prediction = list(map(round, pred))\n",
    "cm_regr=confusion_matrix(y_test, prediction)\n",
    "dictsplay_labels=y.unique()\n",
    "disp = ConfusionMatrixDisplay(confusion_matrix=cm_regr, display_labels=dictsplay_labels)\n",
    "disp = disp.plot()\n",
    "plt.show()"
   ]
  },
  {
   "cell_type": "code",
   "execution_count": 43,
   "metadata": {},
   "outputs": [
    {
     "data": {
      "text/plain": [
       "array(['KITCHEN', 'CITY', 'GROSS_TAX_bins'], dtype=object)"
      ]
     },
     "execution_count": 43,
     "metadata": {},
     "output_type": "execute_result"
    }
   ],
   "source": [
    "sfs = SequentialFeatureSelector(regr, n_features_to_select=3)\n",
    "sfs.fit(X_train, y_train)\n",
    "sfs.get_feature_names_out()"
   ]
  },
  {
   "cell_type": "markdown",
   "metadata": {},
   "source": [
    "# LightGBM Regression"
   ]
  },
  {
   "cell_type": "code",
   "execution_count": 44,
   "metadata": {},
   "outputs": [
    {
     "name": "stdout",
     "output_type": "stream",
     "text": [
      "[LightGBM] [Info] Total Bins 97\n",
      "[LightGBM] [Info] Number of data points in the train set: 83725, number of used features: 10\n",
      "[LightGBM] [Info] Start training from score 1.866014\n",
      "Total time taken for training the model 0.6304943561553955\n"
     ]
    }
   ],
   "source": [
    "start_time = time.time()\n",
    "lgb_model = LGBMRegressor(subsample=0.9,force_row_wise= True)\n",
    "lgb_model.fit(X_train, y_train)\n",
    "print(f\"Total time taken for training the model {(time.time() - start_time)}\")"
   ]
  },
  {
   "cell_type": "code",
   "execution_count": 45,
   "metadata": {},
   "outputs": [],
   "source": [
    "#==================Calculating Accuracy of LightGBM==================\n",
    "accuracy = lgb_model.score(X_train, y_train)\n",
    "Models.append(['LightGBM',accuracy]) # LightGBM Regression accuracy"
   ]
  },
  {
   "cell_type": "code",
   "execution_count": 46,
   "metadata": {},
   "outputs": [
    {
     "data": {
      "image/png": "[encoded data removed]",
      "text/plain": [
       "<Figure size 640x480 with 2 Axes>"
      ]
     },
     "metadata": {},
     "output_type": "display_data"
    }
   ],
   "source": [
    "#=====================Confusion Matrix for LightGBM=========================\n",
    "pred = lgb_model.predict(X_test)\n",
    "prediction = list(map(round, pred))\n",
    "cm = confusion_matrix(y_test, prediction)\n",
    "dictsplay_labels=y.unique()\n",
    "disp = ConfusionMatrixDisplay(confusion_matrix=cm, display_labels=dictsplay_labels)\n",
    "disp = disp.plot()\n",
    "plt.show()"
   ]
  },
  {
   "cell_type": "markdown",
   "metadata": {},
   "source": [
    "# Model with Regularization\n",
    "## RIDGE Regression"
   ]
  },
  {
   "cell_type": "code",
   "execution_count": 47,
   "metadata": {},
   "outputs": [
    {
     "name": "stdout",
     "output_type": "stream",
     "text": [
      "Total time taken for training the model 0.015706300735473633\n"
     ]
    }
   ],
   "source": [
    "start_time = time.time()\n",
    "ridge = Ridge(alpha=1.0).fit(X_train, y_train)\n",
    "print(f\"Total time taken for training the model {(time.time() - start_time)}\")"
   ]
  },
  {
   "cell_type": "code",
   "execution_count": 48,
   "metadata": {},
   "outputs": [
    {
     "data": {
      "text/plain": [
       "0.7309096877631966"
      ]
     },
     "execution_count": 48,
     "metadata": {},
     "output_type": "execute_result"
    }
   ],
   "source": [
    "accuracy = ridge.score(X_train, y_train)\n",
    "Models.append(['Ridge Regression',accuracy])# Ridge Regression accuracy\n",
    "accuracy"
   ]
  },
  {
   "cell_type": "markdown",
   "metadata": {},
   "source": [
    "# LASSO Regression"
   ]
  },
  {
   "cell_type": "code",
   "execution_count": 49,
   "metadata": {},
   "outputs": [
    {
     "name": "stdout",
     "output_type": "stream",
     "text": [
      "Total time taken for training the model 0.018159866333007812\n"
     ]
    }
   ],
   "source": [
    "start_time = time.time()\n",
    "lasso = Lasso(alpha=0.01).fit(X_train, y_train) \n",
    "print(f\"Total time taken for training the model {(time.time() - start_time)}\")\n",
    "pred_train_lasso = lasso.predict(X_train)"
   ]
  },
  {
   "cell_type": "code",
   "execution_count": 50,
   "metadata": {},
   "outputs": [
    {
     "data": {
      "text/plain": [
       "0.730132557895169"
      ]
     },
     "execution_count": 50,
     "metadata": {},
     "output_type": "execute_result"
    }
   ],
   "source": [
    "accuracy = lasso.score(X_train, y_train)\n",
    "Models.append(['Lasso Regression',accuracy]) # Lasso Regression\n",
    "accuracy"
   ]
  },
  {
   "cell_type": "code",
   "execution_count": 51,
   "metadata": {},
   "outputs": [],
   "source": [
    "mod_df = pd.DataFrame(Models,columns=['Model','Accuracy'])\n",
    "\n",
    "mod_df.sort_values(by=['Accuracy'],inplace=True,ascending=False)"
   ]
  },
  {
   "cell_type": "code",
   "execution_count": 52,
   "metadata": {},
   "outputs": [
    {
     "data": {
      "text/plain": [
       "<Axes: xlabel='Accuracy', ylabel='Model'>"
      ]
     },
     "execution_count": 52,
     "metadata": {},
     "output_type": "execute_result"
    },
    {
     "data": {
      "image/png": "[encoded data removed]",
      "text/plain": [
       "<Figure size 640x480 with 1 Axes>"
      ]
     },
     "metadata": {},
     "output_type": "display_data"
    }
   ],
   "source": [
    "sns.barplot(data=mod_df, x='Accuracy', y='Model')"
   ]
  }
 ],
 "metadata": {
  "kernelspec": {
   "display_name": "Python 3 (ipykernel)",
   "language": "python",
   "name": "python3"
  },
  "language_info": {
   "codemirror_mode": {
    "name": "ipython",
    "version": 3
   },
   "file_extension": ".py",
   "mimetype": "text/x-python",
   "name": "python",
   "nbconvert_exporter": "python",
   "pygments_lexer": "ipython3",
   "version": "3.12.1"
  }
 },
 "nbformat": 4,
 "nbformat_minor": 4
}
